{
 "cells": [
  {
   "cell_type": "markdown",
   "id": "3443b3de",
   "metadata": {},
   "source": [
    "### Question 1\n",
    "Given a list of integers nums and an integer target, return <i>indices of the two numbers such that they add up to target<i>. <br>\n",
    "\n",
    "Example 1:<br>\n",
    "\n",
    "Input: nums = [2,7,11,15], target = 9<br>\n",
    "Output: [0,1]"
   ]
  },
  {
   "cell_type": "code",
   "execution_count": null,
   "id": "ff1e5aa2",
   "metadata": {},
   "outputs": [],
   "source": []
  },
  {
   "cell_type": "markdown",
   "id": "e473f396",
   "metadata": {},
   "source": [
    "### Question 2\n",
    "Given an integer x,<i> return true if x is a <br>\n",
    "palindrome</i><br>\n",
    ", and false otherwise. <br>\n",
    "Example 1:<br>\n",
    "\n",
    "Input: x = 121<br>\n",
    "Output: true<br>\n"
   ]
  },
  {
   "cell_type": "code",
   "execution_count": null,
   "id": "83e210c0",
   "metadata": {},
   "outputs": [],
   "source": []
  },
  {
   "cell_type": "markdown",
   "id": "a2f1a21b",
   "metadata": {},
   "source": [
    "### Question 3\n",
    "Given two strings needle and haystack, return the index of the first occurrence of needle in haystack, or -1 if needle is not part of haystack.<br>\n",
    "\n",
    "Example 1:<br>\n",
    "Input: haystack = \"sadbutsad\", needle = \"sad\" <br>\n",
    "Output: 0<br>\n",
    "Explanation: \"sad\" occurs at index 0 and 6.<br>\n",
    "The first occurrence is at index 0, so we return 0.<br>\n",
    "\n",
    "Example 2:<br>\n",
    "Input: haystack = \"apple\", needle = \"appo\"<br>\n",
    "Output: -1<br>\n",
    "Explanation: \"leeto\" did not occur in \"leetcode\", so we return -1.<br>"
   ]
  },
  {
   "cell_type": "code",
   "execution_count": null,
   "id": "d4aeb342",
   "metadata": {},
   "outputs": [],
   "source": []
  },
  {
   "cell_type": "markdown",
   "id": "916e39e1",
   "metadata": {},
   "source": [
    "### Question 4\n",
    "\n",
    "Enter a number and have the program generate the Fibonacci sequence to that number or to the Nth number."
   ]
  },
  {
   "cell_type": "code",
   "execution_count": null,
   "id": "2bc0707f",
   "metadata": {},
   "outputs": [],
   "source": []
  },
  {
   "cell_type": "markdown",
   "id": "1f0c9bfa",
   "metadata": {},
   "source": [
    "### Question 5\n",
    "Given two integers, return True if the sum of the integers is 20 or if one of the integers is 20. If not, return False"
   ]
  },
  {
   "cell_type": "code",
   "execution_count": null,
   "id": "4030ce7f",
   "metadata": {},
   "outputs": [],
   "source": []
  },
  {
   "cell_type": "markdown",
   "id": "947855f9",
   "metadata": {},
   "source": [
    "### Question 6\n",
    "\n",
    "Convert Celsius to Fahrenheit (Use list comprehension)<br>\n",
    "celsius = [0,10,20.1,34.5]"
   ]
  },
  {
   "cell_type": "code",
   "execution_count": null,
   "id": "ee590475",
   "metadata": {},
   "outputs": [],
   "source": []
  },
  {
   "cell_type": "markdown",
   "id": "26d6af81",
   "metadata": {},
   "source": [
    "### Question 7\n",
    "\n",
    "Create a simple program to manage a stack? The stack should have a maximum limit of 10 elements. Include two functions: one for adding (pushing) an element to the stack and another for removing (popping) an element from the stack. If the stack is full and someone tries to add an element, return a message saying the stack is full. If the stack is empty and someone tries to remove an element, return a message saying the stack is empty and no element can be removed.<br>\n",
    "\n",
    "<b>Note:</b> Stack follows FIFO (first in first out) rule"
   ]
  },
  {
   "cell_type": "code",
   "execution_count": null,
   "id": "da16794b",
   "metadata": {},
   "outputs": [],
   "source": []
  },
  {
   "cell_type": "markdown",
   "id": "c34f3ddd",
   "metadata": {},
   "source": [
    "### Question 8\n",
    "\n",
    "Create a function which will take list as an input argument! If a number can be divided evenly by 3, print \"fizz.\" If it can be divided evenly by 5, print \"buzz.\" And if it can be divided evenly by both 3 and 5, print \"fizzbuzz.\"<br>\n",
    "<b>Note:</b>Use max two conditional statements."
   ]
  },
  {
   "cell_type": "code",
   "execution_count": null,
   "id": "483439fb",
   "metadata": {},
   "outputs": [],
   "source": []
  }
 ],
 "metadata": {
  "kernelspec": {
   "display_name": "Python 3 (ipykernel)",
   "language": "python",
   "name": "python3"
  },
  "language_info": {
   "codemirror_mode": {
    "name": "ipython",
    "version": 3
   },
   "file_extension": ".py",
   "mimetype": "text/x-python",
   "name": "python",
   "nbconvert_exporter": "python",
   "pygments_lexer": "ipython3",
   "version": "3.10.9"
  }
 },
 "nbformat": 4,
 "nbformat_minor": 5
}
