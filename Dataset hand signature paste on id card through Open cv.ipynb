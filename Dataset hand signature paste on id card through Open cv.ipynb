{
 "cells": [
  {
   "cell_type": "code",
   "execution_count": 1,
   "id": "a59eae57",
   "metadata": {},
   "outputs": [],
   "source": [
    "import cv2"
   ]
  },
  {
   "cell_type": "code",
   "execution_count": 2,
   "id": "fca2e035",
   "metadata": {},
   "outputs": [],
   "source": [
    "import cv2\n",
    "import os\n",
    "import numpy as np\n",
    "\n",
    "def process_image(image1_path, image2_path):\n",
    "    # Load the first image\n",
    "    image = cv2.imread(image1_path)\n",
    "    # Resize the image to 113x43\n",
    "    image = cv2.resize(image, (113, 43))\n",
    "    hsv = cv2.cvtColor(image, cv2.COLOR_BGR2HSV)\n",
    "    lower_black_gray = np.array([0, 0, 0])\n",
    "    upper_black_gray = np.array([100, 255, 100])\n",
    "    black_gray_mask = cv2.inRange(hsv, lower_black_gray, upper_black_gray)\n",
    "    # Load the second image\n",
    "    image_2 = cv2.imread(image2_path)\n",
    "    # Extract the roi from the second image\n",
    "    left_upper = (367, 235)\n",
    "    right_bottom = (480, 278)\n",
    "    roi = image_2[left_upper[1]:right_bottom[1], left_upper[0]:right_bottom[0]]\n",
    "    roi[black_gray_mask != 0] = [0, 0, 0]\n",
    "    return image_2\n",
    "\n",
    "# Set the absolute path to the folder containing signature images\n",
    "signature_folder_path = r\"C:\\Users\\nazim\\Videos\\ML Bootcamp Training\\open cv images projects\\Id card sign add through open cv\\Dataset hand signture\"\n",
    "\n",
    "# Set the absolute path to the output folder for processed ID cards\n",
    "output_folder_path = r\"C:\\Users\\nazim\\Videos\\ML Bootcamp Training\\open cv images projects\"\n",
    "\n",
    "# Iterate through signature images in the folder\n",
    "for filename in os.listdir(signature_folder_path):\n",
    "    if filename.endswith(('.jpg', '.jpeg', '.png', '.bmp')):\n",
    "        # Construct the full path to the image\n",
    "        image1_path = os.path.join(signature_folder_path, filename)\n",
    "        image2_path = \"idcard.jpg\"  # Set the absolute path to the ID card image\n",
    "        output_path = os.path.join(output_folder_path, f\"ID_Card_{filename}\")\n",
    "\n",
    "        # Process the image and save the output\n",
    "        processed_image = process_image(image1_path, image2_path)\n",
    "        cv2.imwrite(output_path, processed_image)\n"
   ]
  },
  {
   "cell_type": "code",
   "execution_count": null,
   "id": "242d3627",
   "metadata": {},
   "outputs": [],
   "source": []
  },
  {
   "cell_type": "code",
   "execution_count": null,
   "id": "7cf2ff23",
   "metadata": {},
   "outputs": [],
   "source": []
  }
 ],
 "metadata": {
  "kernelspec": {
   "display_name": "Python 3 (ipykernel)",
   "language": "python",
   "name": "python3"
  },
  "language_info": {
   "codemirror_mode": {
    "name": "ipython",
    "version": 3
   },
   "file_extension": ".py",
   "mimetype": "text/x-python",
   "name": "python",
   "nbconvert_exporter": "python",
   "pygments_lexer": "ipython3",
   "version": "3.9.13"
  }
 },
 "nbformat": 4,
 "nbformat_minor": 5
}
