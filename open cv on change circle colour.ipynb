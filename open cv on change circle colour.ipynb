{
 "cells": [
  {
   "cell_type": "code",
   "execution_count": 1,
   "id": "9e81dd25",
   "metadata": {},
   "outputs": [
    {
     "name": "stdout",
     "output_type": "stream",
     "text": [
      "Requirement already satisfied: pillow in c:\\users\\nazim\\anaconda3\\lib\\site-packages (9.2.0)\n"
     ]
    }
   ],
   "source": [
    "!pip install pillow"
   ]
  },
  {
   "cell_type": "code",
   "execution_count": 2,
   "id": "0b9aeeaf",
   "metadata": {},
   "outputs": [],
   "source": [
    "import cv2\n",
    "import numpy as np\n",
    "\n",
    "# Load the image\n",
    "image_path = \"abc.png\"\n",
    "img = cv2.imread(image_path)"
   ]
  },
  {
   "cell_type": "code",
   "execution_count": 16,
   "id": "1cb07221",
   "metadata": {},
   "outputs": [],
   "source": [
    "import cv2\n",
    "import numpy as np\n",
    "\n",
    "# Load the image\n",
    "image_path = \"abc.png\"  # Replace with the actual path to your image\n",
    "img = cv2.imread(image_path)\n",
    "\n",
    "# Ensure the image is loaded successfully\n",
    "if img is None:\n",
    "    print(\"Error: Could not read the image.\")\n",
    "else:\n",
    "    # Convert the image to the RGB color space\n",
    "    rgb = cv2.cvtColor(img, cv2.COLOR_BGR2RGB)\n",
    "\n",
    "    # Define a threshold for identifying red color\n",
    "    threshold = 100\n",
    "\n",
    "    # Create a mask to identify red pixels\n",
    "    red_mask = (rgb[:, :, 0] > threshold) & (rgb[:, :, 1] < threshold) & (rgb[:, :, 2] < threshold)\n",
    "\n",
    "    # Change the color of the red pixels to pure black\n",
    "    img[red_mask] = [0, 0, 0]\n",
    "\n",
    "    # Display the original and modified images\n",
    "    cv2.imshow('Original Image', cv2.cvtColor(rgb, cv2.COLOR_RGB2BGR))\n",
    "    cv2.imshow('Modified Image', img)\n",
    "    cv2.waitKey(0)\n",
    "    cv2.destroyAllWindows()\n"
   ]
  }
 ],
 "metadata": {
  "kernelspec": {
   "display_name": "Python 3 (ipykernel)",
   "language": "python",
   "name": "python3"
  },
  "language_info": {
   "codemirror_mode": {
    "name": "ipython",
    "version": 3
   },
   "file_extension": ".py",
   "mimetype": "text/x-python",
   "name": "python",
   "nbconvert_exporter": "python",
   "pygments_lexer": "ipython3",
   "version": "3.9.13"
  }
 },
 "nbformat": 4,
 "nbformat_minor": 5
}
